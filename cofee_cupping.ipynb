{
 "cells": [
  {
   "cell_type": "code",
   "execution_count": 1,
   "metadata": {},
   "outputs": [],
   "source": [
    "import pandas as pd\n",
    "import numpy as np\n",
    "from sklearn.model_selection import train_test_split\n",
    "from sklearn.preprocessing import LabelEncoder\n",
    "from sklearn.ensemble import RandomForestRegressor\n",
    "from sklearn.metrics import mean_squared_error\n"
   ]
  },
  {
   "cell_type": "code",
   "execution_count": 2,
   "metadata": {},
   "outputs": [],
   "source": [
    "path = \"Uganda Coffee_Cupping.xlsx\"\n",
    "\n",
    "# Load Training Data\n",
    "training_data = pd.read_excel(path, sheet_name=\"Training Data\")\n",
    "\n",
    "# Load Test Data 1 (Kayunga)\n",
    "test_data_kayunga = pd.read_excel(path, sheet_name=\"Test Data 1\")\n",
    "\n",
    "# Load Test Data 2 (Rwenzori)\n",
    "test_data_rwenzori = pd.read_excel(path, sheet_name=\"Test Data 2\")\n"
   ]
  },
  {
   "cell_type": "code",
   "execution_count": 3,
   "metadata": {},
   "outputs": [
    {
     "name": "stdout",
     "output_type": "stream",
     "text": [
      "  ROBUSTA CUP ANNALYSIS RESULTS   26th, Feb, 2018 Unnamed: 1       Unnamed: 2  \\\n",
      "0                                          ORIGIN    VARIETY  FRAGRANCE/AROMA   \n",
      "1                                          Ibanda        KR3                7   \n",
      "2                                          Ibanda        KR3                8   \n",
      "3                                          Ibanda        KR3             8.25   \n",
      "4                                          Ibanda        KR3              7.5   \n",
      "\n",
      "  Unnamed: 3  Unnamed: 4     Unnamed: 5  Unnamed: 6  Unnamed: 7 Unnamed: 8  \\\n",
      "0     FLAVOR  SALT/ ACID  BITTER/ SWEET  AFTERTASTE  MOUTH FEEL    BALANCE   \n",
      "1          6         6.5           6.75         6.5        6.75          8   \n",
      "2       7.75           7              7        7.25           7          7   \n",
      "3       7.25           7              7        6.75        6.75          7   \n",
      "4       7.75         7.5            7.5        7.25        7.75        7.5   \n",
      "\n",
      "   Unnamed: 9 Unnamed: 10    Unnamed: 11  \n",
      "0  UNIFORMITY  CLEAN CUPS  OVERALL SCORE  \n",
      "1          10          10              8  \n",
      "2          10          10           8.25  \n",
      "3          10          10           6.75  \n",
      "4          10          10            7.5  \n",
      "(76, 12)\n",
      "ROBUSTA CUP ANNALYSIS RESULTS   26th, Feb, 2018    0\n",
      "Unnamed: 1                                         0\n",
      "Unnamed: 2                                         0\n",
      "Unnamed: 3                                         0\n",
      "Unnamed: 4                                         0\n",
      "Unnamed: 5                                         0\n",
      "Unnamed: 6                                         0\n",
      "Unnamed: 7                                         0\n",
      "Unnamed: 8                                         0\n",
      "Unnamed: 9                                         0\n",
      "Unnamed: 10                                        0\n",
      "Unnamed: 11                                        0\n",
      "dtype: int64\n",
      "       ROBUSTA CUP ANNALYSIS RESULTS   26th, Feb, 2018 Unnamed: 1  Unnamed: 2  \\\n",
      "count                                               76         76          76   \n",
      "unique                                               4          6          12   \n",
      "top                                             Ibanda        KR3           7   \n",
      "freq                                                25         15          22   \n",
      "\n",
      "        Unnamed: 3  Unnamed: 4  Unnamed: 5  Unnamed: 6  Unnamed: 7  \\\n",
      "count           76          76          76          76          76   \n",
      "unique          10           9          10          10          10   \n",
      "top              7           7           7           7           7   \n",
      "freq            22          36          30          21          26   \n",
      "\n",
      "        Unnamed: 8  Unnamed: 9  Unnamed: 10  Unnamed: 11  \n",
      "count           76          76           76         76.0  \n",
      "unique           8           3            3         14.0  \n",
      "top              7          10           10          7.5  \n",
      "freq            23          70           70         19.0  \n"
     ]
    }
   ],
   "source": [
    "# Display first few rows of the training data\n",
    "print(training_data.head())\n",
    "\n",
    "# Check the shape of the training data\n",
    "print(training_data.shape)\n",
    "\n",
    "# Check for missing values\n",
    "print(training_data.isnull().sum())\n",
    "\n",
    "# Get statistical summary\n",
    "print(training_data.describe())\n"
   ]
  },
  {
   "cell_type": "code",
   "execution_count": 5,
   "metadata": {},
   "outputs": [
    {
     "name": "stdout",
     "output_type": "stream",
     "text": [
      "<class 'pandas.core.frame.DataFrame'>\n",
      "RangeIndex: 76 entries, 0 to 75\n",
      "Data columns (total 12 columns):\n",
      " #   Column                                           Non-Null Count  Dtype \n",
      "---  ------                                           --------------  ----- \n",
      " 0   ROBUSTA CUP ANNALYSIS RESULTS   26th, Feb, 2018  76 non-null     object\n",
      " 1   Unnamed: 1                                       76 non-null     object\n",
      " 2   Unnamed: 2                                       76 non-null     object\n",
      " 3   Unnamed: 3                                       76 non-null     object\n",
      " 4   Unnamed: 4                                       76 non-null     object\n",
      " 5   Unnamed: 5                                       76 non-null     object\n",
      " 6   Unnamed: 6                                       76 non-null     object\n",
      " 7   Unnamed: 7                                       76 non-null     object\n",
      " 8   Unnamed: 8                                       76 non-null     object\n",
      " 9   Unnamed: 9                                       76 non-null     object\n",
      " 10  Unnamed: 10                                      76 non-null     object\n",
      " 11  Unnamed: 11                                      76 non-null     object\n",
      "dtypes: object(12)\n",
      "memory usage: 7.3+ KB\n",
      "None\n"
     ]
    }
   ],
   "source": [
    "print(training_data.info())"
   ]
  },
  {
   "cell_type": "code",
   "execution_count": 6,
   "metadata": {},
   "outputs": [
    {
     "name": "stdout",
     "output_type": "stream",
     "text": [
      "<class 'pandas.core.frame.DataFrame'>\n",
      "RangeIndex: 26 entries, 0 to 25\n",
      "Data columns (total 12 columns):\n",
      " #   Column                                             Non-Null Count  Dtype \n",
      "---  ------                                             --------------  ----- \n",
      " 0   ROBUSTA CUP ANNALYSIS RESULTS   22nd, April, 2023  26 non-null     object\n",
      " 1   Unnamed: 1                                         26 non-null     object\n",
      " 2   Unnamed: 2                                         26 non-null     object\n",
      " 3   Unnamed: 3                                         26 non-null     object\n",
      " 4   Unnamed: 4                                         26 non-null     object\n",
      " 5   Unnamed: 5                                         26 non-null     object\n",
      " 6   Unnamed: 6                                         26 non-null     object\n",
      " 7   Unnamed: 7                                         26 non-null     object\n",
      " 8   Unnamed: 8                                         26 non-null     object\n",
      " 9   Unnamed: 9                                         26 non-null     object\n",
      " 10  Unnamed: 10                                        26 non-null     object\n",
      " 11  Unnamed: 11                                        1 non-null      object\n",
      "dtypes: object(12)\n",
      "memory usage: 2.6+ KB\n",
      "None\n"
     ]
    }
   ],
   "source": [
    "print(test_data_kayunga.info())"
   ]
  },
  {
   "cell_type": "code",
   "execution_count": 7,
   "metadata": {},
   "outputs": [
    {
     "name": "stdout",
     "output_type": "stream",
     "text": [
      "<class 'pandas.core.frame.DataFrame'>\n",
      "RangeIndex: 26 entries, 0 to 25\n",
      "Data columns (total 12 columns):\n",
      " #   Column                                          Non-Null Count  Dtype \n",
      "---  ------                                          --------------  ----- \n",
      " 0   ROBUSTA CUP ANNALYSIS RESULTS   1st, May, 2023  26 non-null     object\n",
      " 1   Unnamed: 1                                      26 non-null     object\n",
      " 2   Unnamed: 2                                      26 non-null     object\n",
      " 3   Unnamed: 3                                      26 non-null     object\n",
      " 4   Unnamed: 4                                      26 non-null     object\n",
      " 5   Unnamed: 5                                      26 non-null     object\n",
      " 6   Unnamed: 6                                      26 non-null     object\n",
      " 7   Unnamed: 7                                      26 non-null     object\n",
      " 8   Unnamed: 8                                      26 non-null     object\n",
      " 9   Unnamed: 9                                      26 non-null     object\n",
      " 10  Unnamed: 10                                     26 non-null     object\n",
      " 11  Unnamed: 11                                     1 non-null      object\n",
      "dtypes: object(12)\n",
      "memory usage: 2.6+ KB\n",
      "None\n"
     ]
    }
   ],
   "source": [
    "print(test_data_rwenzori.info())"
   ]
  },
  {
   "cell_type": "code",
   "execution_count": 8,
   "metadata": {},
   "outputs": [
    {
     "name": "stdout",
     "output_type": "stream",
     "text": [
      "ROBUSTA CUP ANNALYSIS RESULTS   26th, Feb, 2018    0\n",
      "Unnamed: 1                                         0\n",
      "Unnamed: 2                                         0\n",
      "Unnamed: 3                                         0\n",
      "Unnamed: 4                                         0\n",
      "Unnamed: 5                                         0\n",
      "Unnamed: 6                                         0\n",
      "Unnamed: 7                                         0\n",
      "Unnamed: 8                                         0\n",
      "Unnamed: 9                                         0\n",
      "Unnamed: 10                                        0\n",
      "Unnamed: 11                                        0\n",
      "dtype: int64\n",
      "ROBUSTA CUP ANNALYSIS RESULTS   22nd, April, 2023     0\n",
      "Unnamed: 1                                            0\n",
      "Unnamed: 2                                            0\n",
      "Unnamed: 3                                            0\n",
      "Unnamed: 4                                            0\n",
      "Unnamed: 5                                            0\n",
      "Unnamed: 6                                            0\n",
      "Unnamed: 7                                            0\n",
      "Unnamed: 8                                            0\n",
      "Unnamed: 9                                            0\n",
      "Unnamed: 10                                           0\n",
      "Unnamed: 11                                          25\n",
      "dtype: int64\n",
      "ROBUSTA CUP ANNALYSIS RESULTS   1st, May, 2023     0\n",
      "Unnamed: 1                                         0\n",
      "Unnamed: 2                                         0\n",
      "Unnamed: 3                                         0\n",
      "Unnamed: 4                                         0\n",
      "Unnamed: 5                                         0\n",
      "Unnamed: 6                                         0\n",
      "Unnamed: 7                                         0\n",
      "Unnamed: 8                                         0\n",
      "Unnamed: 9                                         0\n",
      "Unnamed: 10                                        0\n",
      "Unnamed: 11                                       25\n",
      "dtype: int64\n"
     ]
    }
   ],
   "source": [
    "# Check for missing values in the training data\n",
    "print(training_data.isnull().sum())\n",
    "\n",
    "# Check for missing values in the test data for Kayunga\n",
    "print(test_data_kayunga.isnull().sum())\n",
    "\n",
    "# Check for missing values in the test data for Rwenzori\n",
    "print(test_data_rwenzori.isnull().sum())\n"
   ]
  },
  {
   "cell_type": "code",
   "execution_count": 9,
   "metadata": {},
   "outputs": [],
   "source": [
    "# Drop rows with missing values in the training data\n",
    "training_data = training_data.dropna()\n",
    "\n",
    "# Drop rows with missing values in the test data for Kayunga\n",
    "test_data_kayunga = test_data_kayunga.dropna()\n",
    "\n",
    "# Drop rows with missing values in the test data for Rwenzori\n",
    "test_data_rwenzori = test_data_rwenzori.dropna()\n"
   ]
  },
  {
   "cell_type": "code",
   "execution_count": 13,
   "metadata": {},
   "outputs": [
    {
     "name": "stdout",
     "output_type": "stream",
     "text": [
      "Number of duplicate rows in test_data_kayunga: 0\n"
     ]
    }
   ],
   "source": [
    "test_data_kayunga = test_data_kayunga.dropna()\n",
    "print(\"Number of duplicate rows in test_data_kayunga:\", duplicates.sum())"
   ]
  },
  {
   "cell_type": "code",
   "execution_count": 14,
   "metadata": {},
   "outputs": [
    {
     "name": "stdout",
     "output_type": "stream",
     "text": [
      "Number of duplicate rows in test_data_rwenzori: 0\n"
     ]
    }
   ],
   "source": [
    "ttest_data_rwenzori = test_data_rwenzori.dropna()\n",
    "print(\"Number of duplicate rows in test_data_rwenzori:\", duplicates.sum())"
   ]
  },
  {
   "cell_type": "code",
   "execution_count": 11,
   "metadata": {},
   "outputs": [
    {
     "name": "stdout",
     "output_type": "stream",
     "text": [
      "Number of duplicate rows in training data: 0\n"
     ]
    }
   ],
   "source": [
    "# Check for duplicate rows in the training data\n",
    "duplicates = training_data.duplicated()\n",
    "print(\"Number of duplicate rows in training data:\", duplicates.sum())\n"
   ]
  },
  {
   "cell_type": "code",
   "execution_count": 15,
   "metadata": {},
   "outputs": [
    {
     "ename": "KeyError",
     "evalue": "'OVERALL SCORE'",
     "output_type": "error",
     "traceback": [
      "\u001b[1;31m---------------------------------------------------------------------------\u001b[0m",
      "\u001b[1;31mKeyError\u001b[0m                                  Traceback (most recent call last)",
      "File \u001b[1;32m~\\AppData\\Local\\Packages\\PythonSoftwareFoundation.Python.3.11_qbz5n2kfra8p0\\LocalCache\\local-packages\\Python311\\site-packages\\pandas\\core\\indexes\\base.py:3652\u001b[0m, in \u001b[0;36mIndex.get_loc\u001b[1;34m(self, key)\u001b[0m\n\u001b[0;32m   3651\u001b[0m \u001b[39mtry\u001b[39;00m:\n\u001b[1;32m-> 3652\u001b[0m     \u001b[39mreturn\u001b[39;00m \u001b[39mself\u001b[39;49m\u001b[39m.\u001b[39;49m_engine\u001b[39m.\u001b[39;49mget_loc(casted_key)\n\u001b[0;32m   3653\u001b[0m \u001b[39mexcept\u001b[39;00m \u001b[39mKeyError\u001b[39;00m \u001b[39mas\u001b[39;00m err:\n",
      "File \u001b[1;32m~\\AppData\\Local\\Packages\\PythonSoftwareFoundation.Python.3.11_qbz5n2kfra8p0\\LocalCache\\local-packages\\Python311\\site-packages\\pandas\\_libs\\index.pyx:147\u001b[0m, in \u001b[0;36mpandas._libs.index.IndexEngine.get_loc\u001b[1;34m()\u001b[0m\n",
      "File \u001b[1;32m~\\AppData\\Local\\Packages\\PythonSoftwareFoundation.Python.3.11_qbz5n2kfra8p0\\LocalCache\\local-packages\\Python311\\site-packages\\pandas\\_libs\\index.pyx:176\u001b[0m, in \u001b[0;36mpandas._libs.index.IndexEngine.get_loc\u001b[1;34m()\u001b[0m\n",
      "File \u001b[1;32mpandas\\_libs\\hashtable_class_helper.pxi:7080\u001b[0m, in \u001b[0;36mpandas._libs.hashtable.PyObjectHashTable.get_item\u001b[1;34m()\u001b[0m\n",
      "File \u001b[1;32mpandas\\_libs\\hashtable_class_helper.pxi:7088\u001b[0m, in \u001b[0;36mpandas._libs.hashtable.PyObjectHashTable.get_item\u001b[1;34m()\u001b[0m\n",
      "\u001b[1;31mKeyError\u001b[0m: 'OVERALL SCORE'",
      "\nThe above exception was the direct cause of the following exception:\n",
      "\u001b[1;31mKeyError\u001b[0m                                  Traceback (most recent call last)",
      "Cell \u001b[1;32mIn[15], line 4\u001b[0m\n\u001b[0;32m      1\u001b[0m \u001b[39mimport\u001b[39;00m \u001b[39mmatplotlib\u001b[39;00m\u001b[39m.\u001b[39;00m\u001b[39mpyplot\u001b[39;00m \u001b[39mas\u001b[39;00m \u001b[39mplt\u001b[39;00m\n\u001b[0;32m      3\u001b[0m \u001b[39m# Histogram of overall scores in the training data\u001b[39;00m\n\u001b[1;32m----> 4\u001b[0m plt\u001b[39m.\u001b[39mhist(training_data[\u001b[39m\"\u001b[39;49m\u001b[39mOVERALL SCORE\u001b[39;49m\u001b[39m\"\u001b[39;49m], bins\u001b[39m=\u001b[39m\u001b[39m10\u001b[39m)\n\u001b[0;32m      5\u001b[0m plt\u001b[39m.\u001b[39mxlabel(\u001b[39m\"\u001b[39m\u001b[39mOverall Score\u001b[39m\u001b[39m\"\u001b[39m)\n\u001b[0;32m      6\u001b[0m plt\u001b[39m.\u001b[39mylabel(\u001b[39m\"\u001b[39m\u001b[39mFrequency\u001b[39m\u001b[39m\"\u001b[39m)\n",
      "File \u001b[1;32m~\\AppData\\Local\\Packages\\PythonSoftwareFoundation.Python.3.11_qbz5n2kfra8p0\\LocalCache\\local-packages\\Python311\\site-packages\\pandas\\core\\frame.py:3761\u001b[0m, in \u001b[0;36mDataFrame.__getitem__\u001b[1;34m(self, key)\u001b[0m\n\u001b[0;32m   3759\u001b[0m \u001b[39mif\u001b[39;00m \u001b[39mself\u001b[39m\u001b[39m.\u001b[39mcolumns\u001b[39m.\u001b[39mnlevels \u001b[39m>\u001b[39m \u001b[39m1\u001b[39m:\n\u001b[0;32m   3760\u001b[0m     \u001b[39mreturn\u001b[39;00m \u001b[39mself\u001b[39m\u001b[39m.\u001b[39m_getitem_multilevel(key)\n\u001b[1;32m-> 3761\u001b[0m indexer \u001b[39m=\u001b[39m \u001b[39mself\u001b[39;49m\u001b[39m.\u001b[39;49mcolumns\u001b[39m.\u001b[39;49mget_loc(key)\n\u001b[0;32m   3762\u001b[0m \u001b[39mif\u001b[39;00m is_integer(indexer):\n\u001b[0;32m   3763\u001b[0m     indexer \u001b[39m=\u001b[39m [indexer]\n",
      "File \u001b[1;32m~\\AppData\\Local\\Packages\\PythonSoftwareFoundation.Python.3.11_qbz5n2kfra8p0\\LocalCache\\local-packages\\Python311\\site-packages\\pandas\\core\\indexes\\base.py:3654\u001b[0m, in \u001b[0;36mIndex.get_loc\u001b[1;34m(self, key)\u001b[0m\n\u001b[0;32m   3652\u001b[0m     \u001b[39mreturn\u001b[39;00m \u001b[39mself\u001b[39m\u001b[39m.\u001b[39m_engine\u001b[39m.\u001b[39mget_loc(casted_key)\n\u001b[0;32m   3653\u001b[0m \u001b[39mexcept\u001b[39;00m \u001b[39mKeyError\u001b[39;00m \u001b[39mas\u001b[39;00m err:\n\u001b[1;32m-> 3654\u001b[0m     \u001b[39mraise\u001b[39;00m \u001b[39mKeyError\u001b[39;00m(key) \u001b[39mfrom\u001b[39;00m \u001b[39merr\u001b[39;00m\n\u001b[0;32m   3655\u001b[0m \u001b[39mexcept\u001b[39;00m \u001b[39mTypeError\u001b[39;00m:\n\u001b[0;32m   3656\u001b[0m     \u001b[39m# If we have a listlike key, _check_indexing_error will raise\u001b[39;00m\n\u001b[0;32m   3657\u001b[0m     \u001b[39m#  InvalidIndexError. Otherwise we fall through and re-raise\u001b[39;00m\n\u001b[0;32m   3658\u001b[0m     \u001b[39m#  the TypeError.\u001b[39;00m\n\u001b[0;32m   3659\u001b[0m     \u001b[39mself\u001b[39m\u001b[39m.\u001b[39m_check_indexing_error(key)\n",
      "\u001b[1;31mKeyError\u001b[0m: 'OVERALL SCORE'"
     ]
    }
   ],
   "source": [
    "import matplotlib.pyplot as plt\n",
    "\n",
    "# Histogram of overall scores in the training data\n",
    "plt.hist(training_data[\"OVERALL SCORE\"], bins=10)\n",
    "plt.xlabel(\"Overall Score\")\n",
    "plt.ylabel(\"Frequency\")\n",
    "plt.title(\"Distribution of Overall Scores\")\n",
    "plt.show()\n"
   ]
  },
  {
   "cell_type": "code",
   "execution_count": 16,
   "metadata": {},
   "outputs": [
    {
     "ename": "KeyError",
     "evalue": "\"None of [Index(['FRAGRANCE/AROMA', 'FLAVOR', 'AFTERTASTE', 'OVERALL SCORE'], dtype='object')] are in the [columns]\"",
     "output_type": "error",
     "traceback": [
      "\u001b[1;31m---------------------------------------------------------------------------\u001b[0m",
      "\u001b[1;31mKeyError\u001b[0m                                  Traceback (most recent call last)",
      "Cell \u001b[1;32mIn[16], line 5\u001b[0m\n\u001b[0;32m      3\u001b[0m \u001b[39m# Pairwise scatter plot of selected variables in the training data\u001b[39;00m\n\u001b[0;32m      4\u001b[0m selected_vars \u001b[39m=\u001b[39m [\u001b[39m\"\u001b[39m\u001b[39mFRAGRANCE/AROMA\u001b[39m\u001b[39m\"\u001b[39m, \u001b[39m\"\u001b[39m\u001b[39mFLAVOR\u001b[39m\u001b[39m\"\u001b[39m, \u001b[39m\"\u001b[39m\u001b[39mAFTERTASTE\u001b[39m\u001b[39m\"\u001b[39m, \u001b[39m\"\u001b[39m\u001b[39mOVERALL SCORE\u001b[39m\u001b[39m\"\u001b[39m]\n\u001b[1;32m----> 5\u001b[0m sns\u001b[39m.\u001b[39mpairplot(training_data[selected_vars])\n\u001b[0;32m      6\u001b[0m plt\u001b[39m.\u001b[39mshow()\n",
      "File \u001b[1;32m~\\AppData\\Local\\Packages\\PythonSoftwareFoundation.Python.3.11_qbz5n2kfra8p0\\LocalCache\\local-packages\\Python311\\site-packages\\pandas\\core\\frame.py:3767\u001b[0m, in \u001b[0;36mDataFrame.__getitem__\u001b[1;34m(self, key)\u001b[0m\n\u001b[0;32m   3765\u001b[0m     \u001b[39mif\u001b[39;00m is_iterator(key):\n\u001b[0;32m   3766\u001b[0m         key \u001b[39m=\u001b[39m \u001b[39mlist\u001b[39m(key)\n\u001b[1;32m-> 3767\u001b[0m     indexer \u001b[39m=\u001b[39m \u001b[39mself\u001b[39;49m\u001b[39m.\u001b[39;49mcolumns\u001b[39m.\u001b[39;49m_get_indexer_strict(key, \u001b[39m\"\u001b[39;49m\u001b[39mcolumns\u001b[39;49m\u001b[39m\"\u001b[39;49m)[\u001b[39m1\u001b[39m]\n\u001b[0;32m   3769\u001b[0m \u001b[39m# take() does not accept boolean indexers\u001b[39;00m\n\u001b[0;32m   3770\u001b[0m \u001b[39mif\u001b[39;00m \u001b[39mgetattr\u001b[39m(indexer, \u001b[39m\"\u001b[39m\u001b[39mdtype\u001b[39m\u001b[39m\"\u001b[39m, \u001b[39mNone\u001b[39;00m) \u001b[39m==\u001b[39m \u001b[39mbool\u001b[39m:\n",
      "File \u001b[1;32m~\\AppData\\Local\\Packages\\PythonSoftwareFoundation.Python.3.11_qbz5n2kfra8p0\\LocalCache\\local-packages\\Python311\\site-packages\\pandas\\core\\indexes\\base.py:5876\u001b[0m, in \u001b[0;36mIndex._get_indexer_strict\u001b[1;34m(self, key, axis_name)\u001b[0m\n\u001b[0;32m   5873\u001b[0m \u001b[39melse\u001b[39;00m:\n\u001b[0;32m   5874\u001b[0m     keyarr, indexer, new_indexer \u001b[39m=\u001b[39m \u001b[39mself\u001b[39m\u001b[39m.\u001b[39m_reindex_non_unique(keyarr)\n\u001b[1;32m-> 5876\u001b[0m \u001b[39mself\u001b[39;49m\u001b[39m.\u001b[39;49m_raise_if_missing(keyarr, indexer, axis_name)\n\u001b[0;32m   5878\u001b[0m keyarr \u001b[39m=\u001b[39m \u001b[39mself\u001b[39m\u001b[39m.\u001b[39mtake(indexer)\n\u001b[0;32m   5879\u001b[0m \u001b[39mif\u001b[39;00m \u001b[39misinstance\u001b[39m(key, Index):\n\u001b[0;32m   5880\u001b[0m     \u001b[39m# GH 42790 - Preserve name from an Index\u001b[39;00m\n",
      "File \u001b[1;32m~\\AppData\\Local\\Packages\\PythonSoftwareFoundation.Python.3.11_qbz5n2kfra8p0\\LocalCache\\local-packages\\Python311\\site-packages\\pandas\\core\\indexes\\base.py:5935\u001b[0m, in \u001b[0;36mIndex._raise_if_missing\u001b[1;34m(self, key, indexer, axis_name)\u001b[0m\n\u001b[0;32m   5933\u001b[0m     \u001b[39mif\u001b[39;00m use_interval_msg:\n\u001b[0;32m   5934\u001b[0m         key \u001b[39m=\u001b[39m \u001b[39mlist\u001b[39m(key)\n\u001b[1;32m-> 5935\u001b[0m     \u001b[39mraise\u001b[39;00m \u001b[39mKeyError\u001b[39;00m(\u001b[39mf\u001b[39m\u001b[39m\"\u001b[39m\u001b[39mNone of [\u001b[39m\u001b[39m{\u001b[39;00mkey\u001b[39m}\u001b[39;00m\u001b[39m] are in the [\u001b[39m\u001b[39m{\u001b[39;00maxis_name\u001b[39m}\u001b[39;00m\u001b[39m]\u001b[39m\u001b[39m\"\u001b[39m)\n\u001b[0;32m   5937\u001b[0m not_found \u001b[39m=\u001b[39m \u001b[39mlist\u001b[39m(ensure_index(key)[missing_mask\u001b[39m.\u001b[39mnonzero()[\u001b[39m0\u001b[39m]]\u001b[39m.\u001b[39munique())\n\u001b[0;32m   5938\u001b[0m \u001b[39mraise\u001b[39;00m \u001b[39mKeyError\u001b[39;00m(\u001b[39mf\u001b[39m\u001b[39m\"\u001b[39m\u001b[39m{\u001b[39;00mnot_found\u001b[39m}\u001b[39;00m\u001b[39m not in index\u001b[39m\u001b[39m\"\u001b[39m)\n",
      "\u001b[1;31mKeyError\u001b[0m: \"None of [Index(['FRAGRANCE/AROMA', 'FLAVOR', 'AFTERTASTE', 'OVERALL SCORE'], dtype='object')] are in the [columns]\""
     ]
    }
   ],
   "source": [
    "import seaborn as sns\n",
    "\n",
    "# Pairwise scatter plot of selected variables in the training data\n",
    "selected_vars = [\"FRAGRANCE/AROMA\", \"FLAVOR\", \"AFTERTASTE\", \"OVERALL SCORE\"]\n",
    "sns.pairplot(training_data[selected_vars])\n",
    "plt.show()\n"
   ]
  },
  {
   "cell_type": "code",
   "execution_count": 17,
   "metadata": {},
   "outputs": [
    {
     "ename": "KeyError",
     "evalue": "'OVERALL SCORE'",
     "output_type": "error",
     "traceback": [
      "\u001b[1;31m---------------------------------------------------------------------------\u001b[0m",
      "\u001b[1;31mKeyError\u001b[0m                                  Traceback (most recent call last)",
      "File \u001b[1;32m~\\AppData\\Local\\Packages\\PythonSoftwareFoundation.Python.3.11_qbz5n2kfra8p0\\LocalCache\\local-packages\\Python311\\site-packages\\pandas\\core\\indexes\\base.py:3652\u001b[0m, in \u001b[0;36mIndex.get_loc\u001b[1;34m(self, key)\u001b[0m\n\u001b[0;32m   3651\u001b[0m \u001b[39mtry\u001b[39;00m:\n\u001b[1;32m-> 3652\u001b[0m     \u001b[39mreturn\u001b[39;00m \u001b[39mself\u001b[39;49m\u001b[39m.\u001b[39;49m_engine\u001b[39m.\u001b[39;49mget_loc(casted_key)\n\u001b[0;32m   3653\u001b[0m \u001b[39mexcept\u001b[39;00m \u001b[39mKeyError\u001b[39;00m \u001b[39mas\u001b[39;00m err:\n",
      "File \u001b[1;32m~\\AppData\\Local\\Packages\\PythonSoftwareFoundation.Python.3.11_qbz5n2kfra8p0\\LocalCache\\local-packages\\Python311\\site-packages\\pandas\\_libs\\index.pyx:147\u001b[0m, in \u001b[0;36mpandas._libs.index.IndexEngine.get_loc\u001b[1;34m()\u001b[0m\n",
      "File \u001b[1;32m~\\AppData\\Local\\Packages\\PythonSoftwareFoundation.Python.3.11_qbz5n2kfra8p0\\LocalCache\\local-packages\\Python311\\site-packages\\pandas\\_libs\\index.pyx:176\u001b[0m, in \u001b[0;36mpandas._libs.index.IndexEngine.get_loc\u001b[1;34m()\u001b[0m\n",
      "File \u001b[1;32mpandas\\_libs\\hashtable_class_helper.pxi:7080\u001b[0m, in \u001b[0;36mpandas._libs.hashtable.PyObjectHashTable.get_item\u001b[1;34m()\u001b[0m\n",
      "File \u001b[1;32mpandas\\_libs\\hashtable_class_helper.pxi:7088\u001b[0m, in \u001b[0;36mpandas._libs.hashtable.PyObjectHashTable.get_item\u001b[1;34m()\u001b[0m\n",
      "\u001b[1;31mKeyError\u001b[0m: 'OVERALL SCORE'",
      "\nThe above exception was the direct cause of the following exception:\n",
      "\u001b[1;31mKeyError\u001b[0m                                  Traceback (most recent call last)",
      "Cell \u001b[1;32mIn[17], line 2\u001b[0m\n\u001b[0;32m      1\u001b[0m \u001b[39m# Box plot of the overall scores in the training data\u001b[39;00m\n\u001b[1;32m----> 2\u001b[0m sns\u001b[39m.\u001b[39mboxplot(x\u001b[39m=\u001b[39mtraining_data[\u001b[39m\"\u001b[39;49m\u001b[39mOVERALL SCORE\u001b[39;49m\u001b[39m\"\u001b[39;49m])\n\u001b[0;32m      3\u001b[0m plt\u001b[39m.\u001b[39mxlabel(\u001b[39m\"\u001b[39m\u001b[39mOverall Score\u001b[39m\u001b[39m\"\u001b[39m)\n\u001b[0;32m      4\u001b[0m plt\u001b[39m.\u001b[39mtitle(\u001b[39m\"\u001b[39m\u001b[39mBox Plot of Overall Scores\u001b[39m\u001b[39m\"\u001b[39m)\n",
      "File \u001b[1;32m~\\AppData\\Local\\Packages\\PythonSoftwareFoundation.Python.3.11_qbz5n2kfra8p0\\LocalCache\\local-packages\\Python311\\site-packages\\pandas\\core\\frame.py:3761\u001b[0m, in \u001b[0;36mDataFrame.__getitem__\u001b[1;34m(self, key)\u001b[0m\n\u001b[0;32m   3759\u001b[0m \u001b[39mif\u001b[39;00m \u001b[39mself\u001b[39m\u001b[39m.\u001b[39mcolumns\u001b[39m.\u001b[39mnlevels \u001b[39m>\u001b[39m \u001b[39m1\u001b[39m:\n\u001b[0;32m   3760\u001b[0m     \u001b[39mreturn\u001b[39;00m \u001b[39mself\u001b[39m\u001b[39m.\u001b[39m_getitem_multilevel(key)\n\u001b[1;32m-> 3761\u001b[0m indexer \u001b[39m=\u001b[39m \u001b[39mself\u001b[39;49m\u001b[39m.\u001b[39;49mcolumns\u001b[39m.\u001b[39;49mget_loc(key)\n\u001b[0;32m   3762\u001b[0m \u001b[39mif\u001b[39;00m is_integer(indexer):\n\u001b[0;32m   3763\u001b[0m     indexer \u001b[39m=\u001b[39m [indexer]\n",
      "File \u001b[1;32m~\\AppData\\Local\\Packages\\PythonSoftwareFoundation.Python.3.11_qbz5n2kfra8p0\\LocalCache\\local-packages\\Python311\\site-packages\\pandas\\core\\indexes\\base.py:3654\u001b[0m, in \u001b[0;36mIndex.get_loc\u001b[1;34m(self, key)\u001b[0m\n\u001b[0;32m   3652\u001b[0m     \u001b[39mreturn\u001b[39;00m \u001b[39mself\u001b[39m\u001b[39m.\u001b[39m_engine\u001b[39m.\u001b[39mget_loc(casted_key)\n\u001b[0;32m   3653\u001b[0m \u001b[39mexcept\u001b[39;00m \u001b[39mKeyError\u001b[39;00m \u001b[39mas\u001b[39;00m err:\n\u001b[1;32m-> 3654\u001b[0m     \u001b[39mraise\u001b[39;00m \u001b[39mKeyError\u001b[39;00m(key) \u001b[39mfrom\u001b[39;00m \u001b[39merr\u001b[39;00m\n\u001b[0;32m   3655\u001b[0m \u001b[39mexcept\u001b[39;00m \u001b[39mTypeError\u001b[39;00m:\n\u001b[0;32m   3656\u001b[0m     \u001b[39m# If we have a listlike key, _check_indexing_error will raise\u001b[39;00m\n\u001b[0;32m   3657\u001b[0m     \u001b[39m#  InvalidIndexError. Otherwise we fall through and re-raise\u001b[39;00m\n\u001b[0;32m   3658\u001b[0m     \u001b[39m#  the TypeError.\u001b[39;00m\n\u001b[0;32m   3659\u001b[0m     \u001b[39mself\u001b[39m\u001b[39m.\u001b[39m_check_indexing_error(key)\n",
      "\u001b[1;31mKeyError\u001b[0m: 'OVERALL SCORE'"
     ]
    }
   ],
   "source": [
    "# Box plot of the overall scores in the training data\n",
    "sns.boxplot(x=training_data[\"OVERALL SCORE\"])\n",
    "plt.xlabel(\"Overall Score\")\n",
    "plt.title(\"Box Plot of Overall Scores\")\n",
    "plt.show()\n"
   ]
  }
 ],
 "metadata": {
  "kernelspec": {
   "display_name": "Python 3",
   "language": "python",
   "name": "python3"
  },
  "language_info": {
   "codemirror_mode": {
    "name": "ipython",
    "version": 3
   },
   "file_extension": ".py",
   "mimetype": "text/x-python",
   "name": "python",
   "nbconvert_exporter": "python",
   "pygments_lexer": "ipython3",
   "version": "3.11.4"
  },
  "orig_nbformat": 4
 },
 "nbformat": 4,
 "nbformat_minor": 2
}
